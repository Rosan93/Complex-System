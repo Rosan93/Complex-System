{
 "cells": [
  {
   "cell_type": "code",
   "execution_count": 1,
   "metadata": {},
   "outputs": [
    {
     "name": "stdout",
     "output_type": "stream",
     "text": [
      "The unsorted data: [10, 15, 8, 9, 2]\n",
      "The sorted data: [2, 8, 9, 10, 15]\n"
     ]
    }
   ],
   "source": [
    "# Insertion Sort\n",
    "def insertion_sort(data):\n",
    "    a= data.copy()\n",
    "    \n",
    "    for x in range(0,len(data)):\n",
    "        for i in range(x,0,-1):\n",
    "            if a[i]<a[i-1]:\n",
    "                a[i],a[i-1]=a[i-1],a[i]\n",
    "    return a\n",
    "\n",
    "data = [10,15,8,9,2]\n",
    "\n",
    "print(\"The unsorted data: {}\".format(data))\n",
    "result = insertion_sort(data)\n",
    "print(\"The sorted data: {}\".format(result))"
   ]
  },
  {
   "cell_type": "code",
   "execution_count": 2,
   "metadata": {},
   "outputs": [
    {
     "name": "stdout",
     "output_type": "stream",
     "text": [
      "The unsorted data: [20, 15, 14, 25, 9]\n",
      "The sorted data: [9, 14, 15, 20, 25]\n"
     ]
    }
   ],
   "source": [
    "# Merge Sort\n",
    "\n",
    "def merge(mdata):\n",
    "    if len(mdata)<=1:\n",
    "        return mdata\n",
    "    \n",
    "    middle = len(mdata)//2\n",
    "    left = merge(mdata[:middle])\n",
    "    right = merge(mdata[middle:])\n",
    "    \n",
    "    mresult1 = merge_sort(left,right)\n",
    "    \n",
    "    return mresult1\n",
    "\n",
    "\n",
    "def merge_sort(a,b):\n",
    "    c = []\n",
    "    i=0\n",
    "    j=0\n",
    "    \n",
    "    while i<len(a) and j<len(b):\n",
    "        if a[i]<b[j]:\n",
    "            c.append(a[i])\n",
    "            i+=1\n",
    "            \n",
    "        elif a[i]>b[j]:\n",
    "            c.append(b[j])\n",
    "            j+=1\n",
    "        \n",
    "        else:\n",
    "            c.append(a[i])\n",
    "            c.append(b[j])\n",
    "            \n",
    "            i+=1\n",
    "            j+=1\n",
    "    \n",
    "    if i<len(a):\n",
    "        c.extend(a[i:])\n",
    "    \n",
    "    if j<len(b):\n",
    "        c.extend(b[j:])\n",
    "        \n",
    "    return c\n",
    "        \n",
    "\n",
    "mdata = [20,15,14,25,9]\n",
    "print(\"The unsorted data: {}\".format(mdata))\n",
    "mresult = merge(mdata)\n",
    "print(\"The sorted data: {}\".format(mresult))"
   ]
  },
  {
   "cell_type": "code",
   "execution_count": 3,
   "metadata": {},
   "outputs": [
    {
     "name": "stdout",
     "output_type": "stream",
     "text": [
      "The unsorted array: [26, 49, 21, 86, 77, 93, 12, 96, 24, 74]\n",
      "The sorted array: [12, 21, 24, 26, 49, 74, 77, 86, 93, 96]\n"
     ]
    }
   ],
   "source": [
    "# Tim Sort\n",
    "from random import randint\n",
    "\n",
    "def tim_sort(array,run):\n",
    "    for x in range(0,len(array),run):\n",
    "        array[x:x+run] = insertion_sort(array[x:x+run])\n",
    "        \n",
    "    run_idx = run\n",
    "    \n",
    "    while run_idx<len(array):\n",
    "        for x in range(0,len(array),2*run_idx):\n",
    "            array[x:x+2*run_idx] = merge_sort(array[x:x+run_idx],array[x+run_idx:x+2*run_idx])\n",
    "            \n",
    "        run_idx*=2\n",
    "    \n",
    "    return array\n",
    "\n",
    "\n",
    "\n",
    "array = []\n",
    "run = 10\n",
    "\n",
    "for x in range(0,10):\n",
    "    array.append(randint(0,99))\n",
    "\n",
    "print(\"The unsorted array: {}\".format(array))\n",
    "timresult = tim_sort(array,run)\n",
    "print(\"The sorted array: {}\".format(timresult))"
   ]
  },
  {
   "cell_type": "code",
   "execution_count": 4,
   "metadata": {},
   "outputs": [
    {
     "data": {
      "text/plain": [
       "[(0, 2), (0, 4), (1, 3), (2, 0), (2, 4), (3, 1), (4, 0), (4, 2)]"
      ]
     },
     "execution_count": 4,
     "metadata": {},
     "output_type": "execute_result"
    }
   ],
   "source": [
    " [(x, y) for x in range(5) for y in range(5) if (x+y)%2== 0 and x!= y] "
   ]
  },
  {
   "cell_type": "code",
   "execution_count": 5,
   "metadata": {},
   "outputs": [
    {
     "name": "stdout",
     "output_type": "stream",
     "text": [
      "Enter a number: 2\n",
      "[(0, 0, 0), (0, 1, 1), (0, 2, 2), (1, 0, 1), (2, 0, 2)]\n"
     ]
    }
   ],
   "source": [
    "n = int(input(\"Enter a number: \"))\n",
    "result = [(a,b,c) for a in range(0,n+1) for b in range(0,n+1) for c in range(0,n+1) if a**2 + b**2 == c**2]\n",
    "print(result)\n"
   ]
  },
  {
   "cell_type": "code",
   "execution_count": 35,
   "metadata": {},
   "outputs": [
    {
     "name": "stdout",
     "output_type": "stream",
     "text": [
      "{'a': 5, 'b': 2, 'r': 2, 'c': 1, 'd': 1}\n"
     ]
    }
   ],
   "source": [
    "lett = ['a', 'b', 'r', 'a', 'c', 'a', 'd', 'a', 'b', 'r', 'a']\n",
    "\n",
    "def lett_frequency(lett):\n",
    "    count = {}\n",
    "    \n",
    "    data = {x: lett.count(x) for x in lett}\n",
    "    count.update(data)\n",
    "    return count\n",
    "\n",
    "result = lett_frequency(lett)\n",
    "print(result)\n",
    "    \n",
    "\n",
    "            "
   ]
  }
 ],
 "metadata": {
  "kernelspec": {
   "display_name": "Python 3",
   "language": "python",
   "name": "python3"
  },
  "language_info": {
   "codemirror_mode": {
    "name": "ipython",
    "version": 3
   },
   "file_extension": ".py",
   "mimetype": "text/x-python",
   "name": "python",
   "nbconvert_exporter": "python",
   "pygments_lexer": "ipython3",
   "version": "3.6.4"
  }
 },
 "nbformat": 4,
 "nbformat_minor": 2
}
