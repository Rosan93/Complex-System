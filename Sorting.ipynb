{
 "cells": [
  {
   "cell_type": "code",
   "execution_count": 1,
   "metadata": {},
   "outputs": [],
   "source": [
    "# Insertion Sort\n",
    "\n",
    "def insertion_sort(data):\n",
    "    result = data.copy()\n",
    "    \n",
    "    for x in range(0,len(data)):\n",
    "        for i in range(x,0,-1):\n",
    "            if result[i] < result[i-1]:\n",
    "                result[i],result[i-1]=result[i-1],result[i]\n",
    "                \n",
    "    return result"
   ]
  },
  {
   "cell_type": "code",
   "execution_count": 2,
   "metadata": {},
   "outputs": [],
   "source": [
    "def merge(a,b):\n",
    "    c =[]\n",
    "    i=0\n",
    "    j=0\n",
    "    \n",
    "    while i<len(a) and j<len(b):\n",
    "        if a[i]<b[j]:\n",
    "            c.append(a[i])\n",
    "            i+=1\n",
    "            \n",
    "        elif a[i]>b[j]:\n",
    "            c.append(b[j])\n",
    "            j+=1\n",
    "            \n",
    "        else:\n",
    "            c.append(a[i])\n",
    "            c.append(b[j])\n",
    "            \n",
    "            i+=1\n",
    "            j+=1\n",
    "            \n",
    "    if i<len(a):\n",
    "        c.extend(a[i:])\n",
    "        \n",
    "    if j<len(b):\n",
    "        c.extend(b[j:])\n",
    "        \n",
    "    return c"
   ]
  },
  {
   "cell_type": "code",
   "execution_count": 3,
   "metadata": {},
   "outputs": [
    {
     "name": "stdout",
     "output_type": "stream",
     "text": [
      "[1, 3, 4, 5]\n"
     ]
    }
   ],
   "source": [
    "print(merge([1,5],[3,4]))"
   ]
  },
  {
   "cell_type": "code",
   "execution_count": 4,
   "metadata": {},
   "outputs": [],
   "source": [
    "def merge_sort(data):\n",
    "    if len(data)<=1:\n",
    "        return data\n",
    "    \n",
    "    middle = len(data)//2\n",
    "    left = merge_sort(data[:middle])\n",
    "    right = merge_sort(data[middle:])\n",
    "    \n",
    "    result = merge(left,right)\n",
    "    \n",
    "    return result"
   ]
  },
  {
   "cell_type": "code",
   "execution_count": 5,
   "metadata": {},
   "outputs": [
    {
     "name": "stdout",
     "output_type": "stream",
     "text": [
      "[1, 3, 7, 12, 13]\n"
     ]
    }
   ],
   "source": [
    "data = [12,13,3,1,7]\n",
    "result = merge_sort(data)\n",
    "print(result)"
   ]
  },
  {
   "cell_type": "code",
   "execution_count": 6,
   "metadata": {},
   "outputs": [
    {
     "name": "stdout",
     "output_type": "stream",
     "text": [
      "[1, 3, 7, 12, 13]\n"
     ]
    }
   ],
   "source": [
    "#insertion sort\n",
    "data = [12,13,3,1,7]\n",
    "result = merge_sort(data)\n",
    "print(result)"
   ]
  },
  {
   "cell_type": "code",
   "execution_count": 7,
   "metadata": {},
   "outputs": [
    {
     "name": "stdout",
     "output_type": "stream",
     "text": [
      "[3, 2, 2, 5, 1, 5, 3, 2, 0, 4]\n"
     ]
    }
   ],
   "source": [
    "import random\n",
    "random.seed(50)\n",
    "a=[]\n",
    "for i in range(10):\n",
    "    a.append(random.randint(0,5))\n",
    "    \n",
    "print(a)"
   ]
  },
  {
   "cell_type": "code",
   "execution_count": 11,
   "metadata": {},
   "outputs": [],
   "source": [
    "#Tim sort\n",
    "import random\n",
    "\n",
    "def tim_sort(array, run):\n",
    "    for x in range(0, len(array), run):\n",
    "        array[x:x+run] = insertion_sort(array[x:x+run])\n",
    "    \n",
    "    run_idx = run\n",
    "    \n",
    "    while run_idx < len(array):\n",
    "        \n",
    "        for x in range(0, len(array), 2*run_idx):\n",
    "            array[x:x+2*run_idx] = merge(array[x:x+run_idx], array[x+run_idx:x+2*run_idx])\n",
    "        \n",
    "        run_idx = run_idx * 2\n",
    "        \n",
    "    return array"
   ]
  },
  {
   "cell_type": "code",
   "execution_count": 12,
   "metadata": {},
   "outputs": [
    {
     "name": "stdout",
     "output_type": "stream",
     "text": [
      "Unsorted array: [15, 80, 69, 63, 54, 66, 68, 86, 16, 63, 73, 66, 38, 11, 47, 97, 66, 19, 0, 45, 1, 75, 87, 52, 60, 83, 68, 28, 20, 92, 73, 12, 17, 32, 48, 31, 43, 4, 80, 66, 6, 10, 82, 30, 87, 33, 67, 53, 59, 73]\n",
      "\n",
      "Sorted array: [0, 1, 4, 6, 10, 11, 12, 15, 16, 17, 19, 20, 28, 30, 31, 32, 33, 38, 43, 45, 47, 48, 52, 53, 54, 59, 60, 63, 63, 66, 66, 66, 66, 67, 68, 68, 69, 73, 73, 73, 75, 80, 80, 82, 83, 86, 87, 87, 92, 97]\n"
     ]
    }
   ],
   "source": [
    "array = []\n",
    "run = 10\n",
    "for x in range(0, 50):\n",
    "    array.append(random.randint(0,97))\n",
    "\n",
    "print(\"Unsorted array: {}\\n\".format(array))\n",
    "\n",
    "result = tim_sort(array, run)\n",
    "    \n",
    "print(\"Sorted array: {}\".format(result))\n"
   ]
  },
  {
   "cell_type": "code",
   "execution_count": null,
   "metadata": {},
   "outputs": [],
   "source": []
  }
 ],
 "metadata": {
  "kernelspec": {
   "display_name": "Python 3",
   "language": "python",
   "name": "python3"
  },
  "language_info": {
   "codemirror_mode": {
    "name": "ipython",
    "version": 3
   },
   "file_extension": ".py",
   "mimetype": "text/x-python",
   "name": "python",
   "nbconvert_exporter": "python",
   "pygments_lexer": "ipython3",
   "version": "3.6.4"
  }
 },
 "nbformat": 4,
 "nbformat_minor": 2
}
