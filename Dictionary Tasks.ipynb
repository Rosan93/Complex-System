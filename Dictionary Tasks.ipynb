{
 "cells": [
  {
   "cell_type": "markdown",
   "metadata": {},
   "source": [
    "# Tasks"
   ]
  },
  {
   "cell_type": "code",
   "execution_count": 1,
   "metadata": {},
   "outputs": [
    {
     "name": "stdout",
     "output_type": "stream",
     "text": [
      "Bill\n",
      "74\n",
      "{'name': 'Bill', 'age': 39, 'height': 74, 'Address': 'Wolverhampton'}\n"
     ]
    }
   ],
   "source": [
    "aboutBill = {'name': 'Bill', 'age': 39, 'height': 6 * 12 + 2}\n",
    "\n",
    "# Write the code to find bill's age \n",
    "# Write the code to find bill's height\n",
    "# Write the code to add the fact that bill lives in the city of wolverhampton\n",
    "\n",
    "print(aboutBill.get('name'))\n",
    "print(aboutBill.get('height'))\n",
    "aboutBill['Address'] = 'Wolverhampton'\n",
    "print(aboutBill)\n",
    "    "
   ]
  },
  {
   "cell_type": "markdown",
   "metadata": {},
   "source": [
    "# Task2"
   ]
  },
  {
   "cell_type": "code",
   "execution_count": 2,
   "metadata": {},
   "outputs": [
    {
     "name": "stdout",
     "output_type": "stream",
     "text": [
      "18\n"
     ]
    }
   ],
   "source": [
    "# Implement the hash function\n",
    "\n",
    "def compute_hash(key, size_of_hash_table):\n",
    "    total = 0\n",
    "    for i in key:\n",
    "        c = int(ord(i))\n",
    "        total+=c\n",
    "    return total%size_of_hash_table\n",
    "    # loop through the characters of the key\n",
    "    # convert the character to a number  (use ord(c))\n",
    "    # add this number to running total\n",
    "    # return (total modulo sizeOfHashTable)   modulo is '%' in Python.\n",
    "#     return 0\n",
    "      \n",
    "size_of_hash_table = 20\n",
    "\n",
    "def my_hash(key):\n",
    "    value = compute_hash(key, size_of_hash_table)\n",
    "    print(value)\n",
    "    \n",
    "my_hash('ABC')"
   ]
  },
  {
   "cell_type": "markdown",
   "metadata": {},
   "source": [
    "# Task3"
   ]
  },
  {
   "cell_type": "markdown",
   "metadata": {},
   "source": [
    "Write a Python program that uses Python's built-in dictionary structure. Your program should:\n",
    "\n",
    "Creates a dictionary mapping company names to phone numbers. Put three items at begin.\n",
    "Allows the end-user to:\n",
    "\n",
    "add new mappings by entering a name and a number, or\n",
    "enter a name to see the corresponding phone number.\n",
    "\n",
    "Within a loop, prompt the end-user to choose operation A or B, then prompt for the necessary inputs, then call the chosen operation."
   ]
  },
  {
   "cell_type": "code",
   "execution_count": 3,
   "metadata": {},
   "outputs": [
    {
     "name": "stdout",
     "output_type": "stream",
     "text": [
      "{'Hamro': 984888, 'Ramro0': 9855555, 'Sabaiko': 988888}\n"
     ]
    }
   ],
   "source": [
    "company = {'Hamro':984888,'Ramro0':9855555,'Sabaiko':988888}\n",
    "print(company)"
   ]
  },
  {
   "cell_type": "code",
   "execution_count": 4,
   "metadata": {},
   "outputs": [
    {
     "name": "stdout",
     "output_type": "stream",
     "text": [
      "Enter option A or B: A\n",
      "Enter the number of input: 1\n",
      "Enter company name: asd\n",
      "Enter the number: ad\n"
     ]
    }
   ],
   "source": [
    "input1 = input(\"Enter option A or B: \")\n",
    "\n",
    "if input1=='A':\n",
    "    a = int(input(\"Enter the number of input: \"))\n",
    "\n",
    "    for i in range(0,a):\n",
    "        b = input(\"Enter company name: \")\n",
    "        c = input(\"Enter the number: \")\n",
    "        company[b] = c\n",
    "        \n",
    "elif input1=='B':\n",
    "    z = input(\"Enter the company to be displayed: \")\n",
    "    \n",
    "    print(company[z])\n",
    "    \n",
    "else:\n",
    "    print(\"Invalid\")\n",
    "    \n",
    "    \n",
    "print(company)"
   ]
  }
 ],
 "metadata": {
  "kernelspec": {
   "display_name": "Python 3",
   "language": "python",
   "name": "python3"
  },
  "language_info": {
   "codemirror_mode": {
    "name": "ipython",
    "version": 3
   },
   "file_extension": ".py",
   "mimetype": "text/x-python",
   "name": "python",
   "nbconvert_exporter": "python",
   "pygments_lexer": "ipython3",
   "version": "3.6.4"
  }
 },
 "nbformat": 4,
 "nbformat_minor": 2
}
