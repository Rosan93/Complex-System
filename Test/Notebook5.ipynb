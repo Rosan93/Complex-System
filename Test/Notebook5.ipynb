{
 "cells": [
  {
   "cell_type": "raw",
   "metadata": {},
   "source": []
  },
  {
   "cell_type": "code",
   "execution_count": 19,
   "metadata": {},
   "outputs": [
    {
     "name": "stdout",
     "output_type": "stream",
     "text": [
      "{'e': 30, 'b': 14, 'f': 12, 'c': 10, 'd': 9, 'a': 1}\n"
     ]
    }
   ],
   "source": [
    "i = {'a':1,'b':14,'c':10,'d':9,'f':12,'e':30}\n",
    "\n",
    "b ={x[::-1] for x in i.items()}\n",
    "c = sorted(b,reverse =True)\n",
    "\n",
    "d = dict([x[::-1] for x in c])\n",
    "print(d)"
   ]
  },
  {
   "cell_type": "code",
   "execution_count": null,
   "metadata": {},
   "outputs": [],
   "source": []
  }
 ],
 "metadata": {
  "kernelspec": {
   "display_name": "Python 3",
   "language": "python",
   "name": "python3"
  },
  "language_info": {
   "codemirror_mode": {
    "name": "ipython",
    "version": 3
   },
   "file_extension": ".py",
   "mimetype": "text/x-python",
   "name": "python",
   "nbconvert_exporter": "python",
   "pygments_lexer": "ipython3",
   "version": "3.6.4"
  }
 },
 "nbformat": 4,
 "nbformat_minor": 2
}
